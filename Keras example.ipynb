{
 "cells": [
  {
   "cell_type": "markdown",
   "metadata": {},
   "source": [
    "# Load libraries"
   ]
  },
  {
   "cell_type": "code",
   "execution_count": 1,
   "metadata": {},
   "outputs": [],
   "source": [
    "from keras import * \n",
    "import tensorflow as tf \n",
    "from keras.layers import Conv2D, MaxPooling2D, Flatten, Dense \n",
    "import keras \n",
    "from sklearn.metrics import mean_absolute_error"
   ]
  },
  {
   "cell_type": "markdown",
   "metadata": {},
   "source": [
    "# Load Data"
   ]
  },
  {
   "cell_type": "code",
   "execution_count": 2,
   "metadata": {},
   "outputs": [],
   "source": [
    "num_classes = 10\n",
    "input_shape = (28, 28, 1)\n",
    "\n",
    "# the data, split between train and test sets\n",
    "(x_train, y_train), (x_test, y_test) = keras.datasets.mnist.load_data()\n"
   ]
  },
  {
   "cell_type": "code",
   "execution_count": 3,
   "metadata": {},
   "outputs": [
    {
     "data": {
      "text/plain": [
       "255"
      ]
     },
     "execution_count": 3,
     "metadata": {},
     "output_type": "execute_result"
    }
   ],
   "source": [
    "x_train.max()"
   ]
  },
  {
   "cell_type": "code",
   "execution_count": 4,
   "metadata": {},
   "outputs": [
    {
     "name": "stdout",
     "output_type": "stream",
     "text": [
      "x_train shape: (60000, 784)\n",
      "x_test shape: (10000, 784)\n",
      "60000 train samples\n",
      "10000 test samples\n"
     ]
    }
   ],
   "source": [
    "x_train = x_train.astype(\"float32\") / 255\n",
    "x_test = x_test.astype(\"float32\") / 255\n",
    "# Make sure images have shape (28, 28, 1)\n",
    "x_train = x_train.reshape(x_train.shape[0], x_train.shape[1]* x_train.shape[1])\n",
    "x_test = x_test.reshape(x_test.shape[0], x_test.shape[1]*x_test.shape[1])\n",
    "\n",
    "\n",
    "print(\"x_train shape:\", x_train.shape)\n",
    "print(\"x_test shape:\", x_test.shape)\n",
    "print(x_train.shape[0], \"train samples\")\n",
    "print(x_test.shape[0], \"test samples\")\n"
   ]
  },
  {
   "cell_type": "code",
   "execution_count": 5,
   "metadata": {},
   "outputs": [
    {
     "data": {
      "text/plain": [
       "array([5, 0, 4, ..., 5, 6, 8], dtype=uint8)"
      ]
     },
     "execution_count": 5,
     "metadata": {},
     "output_type": "execute_result"
    }
   ],
   "source": [
    "y_train"
   ]
  },
  {
   "cell_type": "code",
   "execution_count": 6,
   "metadata": {},
   "outputs": [],
   "source": [
    "y_train = keras.utils.to_categorical(y_train, num_classes)\n",
    "y_test = keras.utils.to_categorical(y_test, num_classes)\n"
   ]
  },
  {
   "cell_type": "markdown",
   "metadata": {},
   "source": [
    "# Modelling "
   ]
  },
  {
   "cell_type": "markdown",
   "metadata": {},
   "source": [
    "## Relu-SoftMax"
   ]
  },
  {
   "cell_type": "markdown",
   "metadata": {},
   "source": [
    "### Relu-Softmax / Adamax"
   ]
  },
  {
   "cell_type": "code",
   "execution_count": 8,
   "metadata": {
    "scrolled": true
   },
   "outputs": [
    {
     "name": "stdout",
     "output_type": "stream",
     "text": [
      "Epoch 1/5\n",
      "3000/3000 [==============================] - 23s 8ms/step - loss: 0.3770 - accuracy: 0.8953\n",
      "Epoch 2/5\n",
      "3000/3000 [==============================] - 21s 7ms/step - loss: 0.2818 - accuracy: 0.9241\n",
      "Epoch 3/5\n",
      "3000/3000 [==============================] - 18s 6ms/step - loss: 0.2359 - accuracy: 0.9376\n",
      "Epoch 4/5\n",
      "3000/3000 [==============================] - 20s 7ms/step - loss: 0.2315 - accuracy: 0.9403\n",
      "Epoch 5/5\n",
      "3000/3000 [==============================] - 25s 8ms/step - loss: 0.2145 - accuracy: 0.9454\n",
      "Test loss: 0.24666066467761993\n",
      "Test accuracy: 0.9491999745368958\n"
     ]
    }
   ],
   "source": [
    "\n",
    "model1 = Sequential()\n",
    "model1.add(Dense(128, activation='linear'))\n",
    "model1.add(Dense(64, activation='relu'))\n",
    "model1.add(Dense(10, activation='softmax'))\n",
    "model1.compile(optimizer=keras.optimizers.Adamax(lr=0.03), loss='categorical_crossentropy', metrics = ['accuracy'])\n",
    "\n",
    "model1.fit(x_train, y_train, epochs=5, verbose=1, batch_size=20)\n",
    "\n",
    "score = model1.evaluate(x_test, y_test, verbose=0)\n",
    "print(\"Test loss:\", score[0])\n",
    "print(\"Test accuracy:\", score[1])"
   ]
  },
  {
   "cell_type": "code",
   "execution_count": 9,
   "metadata": {},
   "outputs": [
    {
     "name": "stdout",
     "output_type": "stream",
     "text": [
      "Epoch 1/5\n",
      "3000/3000 [==============================] - 18s 6ms/step - loss: 10.2827 - accuracy: 0.1274\n",
      "Epoch 2/5\n",
      "3000/3000 [==============================] - 16s 5ms/step - loss: 6.1789 - accuracy: 0.4966\n",
      "Epoch 3/5\n",
      "3000/3000 [==============================] - 19s 6ms/step - loss: 5.4641 - accuracy: 0.6010\n",
      "Epoch 4/5\n",
      "3000/3000 [==============================] - 17s 6ms/step - loss: 4.3803 - accuracy: 0.6611\n",
      "Epoch 5/5\n",
      "3000/3000 [==============================] - 25s 8ms/step - loss: 3.7550 - accuracy: 0.7087\n",
      "Test loss: 3.7378780841827393\n",
      "Test accuracy: 0.7206000089645386\n"
     ]
    }
   ],
   "source": [
    "\n",
    "model11 = Sequential()\n",
    "model11.add(Dense(128, activation='linear'))\n",
    "model11.add(Dense(64, activation='softmax'))\n",
    "model11.add(Dense(10, activation='relu'))\n",
    "model11.compile(optimizer=keras.optimizers.Adamax(lr=0.03), loss='categorical_crossentropy', metrics = ['accuracy'])\n",
    "\n",
    "model11.fit(x_train, y_train, epochs=5, verbose=1, batch_size=20)\n",
    "\n",
    "score = model11.evaluate(x_test, y_test, verbose=0)\n",
    "print(\"Test loss:\", score[0])\n",
    "print(\"Test accuracy:\", score[1])"
   ]
  },
  {
   "cell_type": "markdown",
   "metadata": {},
   "source": [
    "### Relu-Softmax / RMSProp"
   ]
  },
  {
   "cell_type": "code",
   "execution_count": 10,
   "metadata": {
    "scrolled": true
   },
   "outputs": [
    {
     "name": "stdout",
     "output_type": "stream",
     "text": [
      "Epoch 1/5\n",
      "3000/3000 [==============================] - 28s 9ms/step - loss: 2.8794 - accuracy: 0.1665\n",
      "Epoch 2/5\n",
      "3000/3000 [==============================] - 27s 9ms/step - loss: 2.3495 - accuracy: 0.2194\n",
      "Epoch 3/5\n",
      "3000/3000 [==============================] - 26s 9ms/step - loss: 2.4081 - accuracy: 0.2159\n",
      "Epoch 4/5\n",
      "3000/3000 [==============================] - 26s 9ms/step - loss: 2.3139 - accuracy: 0.2069\n",
      "Epoch 5/5\n",
      "3000/3000 [==============================] - 30s 10ms/step - loss: 2.3316 - accuracy: 0.2113\n",
      "Test loss: 2.237271308898926\n",
      "Test accuracy: 0.1467999964952469\n"
     ]
    }
   ],
   "source": [
    "\n",
    "model2 = Sequential()\n",
    "model2.add(Dense(128, activation='linear'))\n",
    "model2.add(Dense(64, activation='relu'))\n",
    "model2.add(Dense(10, activation='softmax'))\n",
    "model2.compile(optimizer=keras.optimizers.RMSprop(lr=0.03), loss='categorical_crossentropy', metrics = ['accuracy'])\n",
    "\n",
    "model2.fit(x_train, y_train, epochs=5, verbose=1, batch_size=20)\n",
    "\n",
    "score = model2.evaluate(x_test, y_test, verbose=0)\n",
    "print(\"Test loss:\", score[0])\n",
    "print(\"Test accuracy:\", score[1])"
   ]
  },
  {
   "cell_type": "markdown",
   "metadata": {},
   "source": [
    "### Relu-Softmax / SGD"
   ]
  },
  {
   "cell_type": "code",
   "execution_count": 11,
   "metadata": {
    "scrolled": true
   },
   "outputs": [
    {
     "name": "stdout",
     "output_type": "stream",
     "text": [
      "Epoch 1/5\n",
      "3000/3000 [==============================] - 16s 5ms/step - loss: 0.3359 - accuracy: 0.9026\n",
      "Epoch 2/5\n",
      "3000/3000 [==============================] - 16s 5ms/step - loss: 0.1761 - accuracy: 0.9482\n",
      "Epoch 3/5\n",
      "3000/3000 [==============================] - 16s 5ms/step - loss: 0.1348 - accuracy: 0.9596\n",
      "Epoch 4/5\n",
      "3000/3000 [==============================] - 16s 5ms/step - loss: 0.1113 - accuracy: 0.9669\n",
      "Epoch 5/5\n",
      "3000/3000 [==============================] - 17s 6ms/step - loss: 0.0944 - accuracy: 0.9711\n",
      "Test loss: 0.11973722279071808\n",
      "Test accuracy: 0.9631999731063843\n"
     ]
    }
   ],
   "source": [
    "\n",
    "model3 = Sequential()\n",
    "model3.add(Dense(128, activation='linear'))\n",
    "model3.add(Dense(64, activation='relu'))\n",
    "model3.add(Dense(10, activation='softmax'))\n",
    "model3.compile(optimizer=keras.optimizers.SGD(lr=0.03), loss='categorical_crossentropy', metrics = ['accuracy'])\n",
    "\n",
    "model3.fit(x_train, y_train, epochs=5, verbose=1, batch_size=20)\n",
    "\n",
    "score = model3.evaluate(x_test, y_test, verbose=0)\n",
    "print(\"Test loss:\", score[0])\n",
    "print(\"Test accuracy:\", score[1])"
   ]
  },
  {
   "cell_type": "code",
   "execution_count": 12,
   "metadata": {},
   "outputs": [
    {
     "name": "stdout",
     "output_type": "stream",
     "text": [
      "Epoch 1/5\n",
      "3000/3000 [==============================] - 18s 6ms/step - loss: 0.3398 - accuracy: 0.9029\n",
      "Epoch 2/5\n",
      "3000/3000 [==============================] - 16s 5ms/step - loss: 0.1579 - accuracy: 0.9532\n",
      "Epoch 3/5\n",
      "3000/3000 [==============================] - 25s 8ms/step - loss: 0.1123 - accuracy: 0.9668\n",
      "Epoch 4/5\n",
      "3000/3000 [==============================] - 19s 6ms/step - loss: 0.0882 - accuracy: 0.9737\n",
      "Epoch 5/5\n",
      "3000/3000 [==============================] - 20s 7ms/step - loss: 0.0709 - accuracy: 0.9793\n",
      "Test loss: 0.08845677226781845\n",
      "Test accuracy: 0.9735000133514404\n"
     ]
    }
   ],
   "source": [
    "sega\n",
    "model32 = Sequential()\n",
    "model32.add(Dense(128, activation='relu'))\n",
    "model32.add(Dense(64, activation='relu'))\n",
    "model32.add(Dense(10, activation='softmax'))\n",
    "model32.compile(optimizer=keras.optimizers.SGD(lr=0.03), loss='categorical_crossentropy', metrics = ['accuracy'])\n",
    "\n",
    "model32.fit(x_train, y_train, epochs=5, verbose=1, batch_size=20)\n",
    "\n",
    "score = model32.evaluate(x_test, y_test, verbose=0)\n",
    "print(\"Test loss:\", score[0])\n",
    "print(\"Test accuracy:\", score[1])"
   ]
  },
  {
   "cell_type": "code",
   "execution_count": 13,
   "metadata": {},
   "outputs": [
    {
     "name": "stdout",
     "output_type": "stream",
     "text": [
      "Epoch 1/5\n",
      "3000/3000 [==============================] - 16s 5ms/step - loss: 6.2897 - accuracy: 0.0986\n",
      "Epoch 2/5\n",
      "3000/3000 [==============================] - 15s 5ms/step - loss: 6.1832 - accuracy: 0.0986\n",
      "Epoch 3/5\n",
      "3000/3000 [==============================] - 16s 5ms/step - loss: 6.1202 - accuracy: 0.0986\n",
      "Epoch 4/5\n",
      "3000/3000 [==============================] - 28s 9ms/step - loss: 6.0765 - accuracy: 0.0986\n",
      "Epoch 5/5\n",
      "3000/3000 [==============================] - 61s 20ms/step - loss: 6.0380 - accuracy: 0.0986\n",
      "Test loss: 6.089914798736572\n",
      "Test accuracy: 0.0957999974489212\n"
     ]
    }
   ],
   "source": [
    "\n",
    "model31 = Sequential()\n",
    "model31.add(Dense(128, activation='linear'))\n",
    "model31.add(Dense(64, activation='softmax'))\n",
    "model31.add(Dense(10, activation='relu'))\n",
    "model31.compile(optimizer=keras.optimizers.SGD(lr=0.03), loss='categorical_crossentropy', metrics = ['accuracy'])\n",
    "\n",
    "model31.fit(x_train, y_train, epochs=5, verbose=1, batch_size=20)\n",
    "\n",
    "score = model31.evaluate(x_test, y_test, verbose=0)\n",
    "print(\"Test loss:\", score[0])\n",
    "print(\"Test accuracy:\", score[1])"
   ]
  },
  {
   "cell_type": "markdown",
   "metadata": {},
   "source": [
    "## Relu-Softmax-Relu"
   ]
  },
  {
   "cell_type": "markdown",
   "metadata": {},
   "source": [
    "### Relu-Soft-Relu / Adamax"
   ]
  },
  {
   "cell_type": "code",
   "execution_count": 14,
   "metadata": {},
   "outputs": [
    {
     "name": "stdout",
     "output_type": "stream",
     "text": [
      "Epoch 1/5\n",
      "3000/3000 [==============================] - 125s 42ms/step - loss: 9.0132 - accuracy: 0.1001\n",
      "Epoch 2/5\n",
      "3000/3000 [==============================] - 122s 41ms/step - loss: 9.0101 - accuracy: 0.1015\n",
      "Epoch 3/5\n",
      "3000/3000 [==============================] - 130s 43ms/step - loss: 9.0096 - accuracy: 0.1014\n",
      "Epoch 4/5\n",
      "3000/3000 [==============================] - 75s 25ms/step - loss: 9.0095 - accuracy: 0.1021\n",
      "Epoch 5/5\n",
      "3000/3000 [==============================] - 36s 12ms/step - loss: 9.0092 - accuracy: 0.1008\n",
      "Test loss: 9.021500587463379\n",
      "Test accuracy: 0.10279999673366547\n"
     ]
    }
   ],
   "source": [
    "\n",
    "model4 = Sequential()\n",
    "model4.add(Dense(256, activation='linear'))\n",
    "model4.add(Dense(128, activation='relu'))\n",
    "model4.add(Dense(64, activation='softmax'))\n",
    "model4.add(Dense(10, activation='relu'))\n",
    "model4.compile(optimizer=keras.optimizers.Adamax(lr=0.03), loss='categorical_crossentropy', metrics = ['accuracy'])\n",
    "\n",
    "model4.fit(x_train, y_train, epochs=5, verbose=1, batch_size=20)\n",
    "\n",
    "score = model4.evaluate(x_test, y_test, verbose=0)\n",
    "print(\"Test loss:\", score[0])\n",
    "print(\"Test accuracy:\", score[1])"
   ]
  },
  {
   "cell_type": "markdown",
   "metadata": {},
   "source": [
    "### Relu-Soft-Relu / RMSprop"
   ]
  },
  {
   "cell_type": "code",
   "execution_count": 15,
   "metadata": {},
   "outputs": [
    {
     "name": "stdout",
     "output_type": "stream",
     "text": [
      "Epoch 1/5\n",
      "3000/3000 [==============================] - 44s 15ms/step - loss: 10.3287 - accuracy: 0.1008\n",
      "Epoch 2/5\n",
      "3000/3000 [==============================] - 41s 14ms/step - loss: 10.3278 - accuracy: 0.1007\n",
      "Epoch 3/5\n",
      "3000/3000 [==============================] - 40s 13ms/step - loss: 10.3277 - accuracy: 0.1008\n",
      "Epoch 4/5\n",
      "3000/3000 [==============================] - 53s 18ms/step - loss: 10.3280 - accuracy: 0.1011\n",
      "Epoch 5/5\n",
      "3000/3000 [==============================] - 44s 15ms/step - loss: 10.3280 - accuracy: 0.1006\n",
      "Test loss: 10.283077239990234\n",
      "Test accuracy: 0.10320000350475311\n"
     ]
    }
   ],
   "source": [
    "\n",
    "model5 = Sequential()\n",
    "model5.add(Dense(256, activation='linear'))\n",
    "model5.add(Dense(128, activation='relu'))\n",
    "model5.add(Dense(64, activation='softmax'))\n",
    "model5.add(Dense(10, activation='relu'))\n",
    "model5.compile(optimizer=keras.optimizers.RMSprop(lr=0.03), loss='categorical_crossentropy', metrics = ['accuracy'])\n",
    "\n",
    "model5.fit(x_train, y_train, epochs=5, verbose=1, batch_size=20)\n",
    "\n",
    "score = model5.evaluate(x_test, y_test, verbose=0)\n",
    "print(\"Test loss:\", score[0])\n",
    "print(\"Test accuracy:\", score[1])"
   ]
  },
  {
   "cell_type": "code",
   "execution_count": 16,
   "metadata": {},
   "outputs": [
    {
     "name": "stdout",
     "output_type": "stream",
     "text": [
      "Epoch 1/5\n",
      "3000/3000 [==============================] - 46s 15ms/step - loss: 2.2938 - accuracy: 0.3248\n",
      "Epoch 2/5\n",
      "3000/3000 [==============================] - 41s 14ms/step - loss: 2.1495 - accuracy: 0.2051\n",
      "Epoch 3/5\n",
      "3000/3000 [==============================] - 47s 16ms/step - loss: 2.0956 - accuracy: 0.1998\n",
      "Epoch 4/5\n",
      "3000/3000 [==============================] - 47s 16ms/step - loss: 2.0964 - accuracy: 0.2031\n",
      "Epoch 5/5\n",
      "3000/3000 [==============================] - 42s 14ms/step - loss: 2.0993 - accuracy: 0.2038\n",
      "Test loss: 2.1183102130889893\n",
      "Test accuracy: 0.19470000267028809\n"
     ]
    }
   ],
   "source": [
    "\n",
    "model51 = Sequential()\n",
    "model51.add(Dense(256, activation='relu'))\n",
    "model51.add(Dense(128, activation='linear'))\n",
    "model51.add(Dense(64, activation='relu'))\n",
    "model51.add(Dense(10, activation='softmax'))\n",
    "model51.compile(optimizer=keras.optimizers.RMSprop(lr=0.03), loss='categorical_crossentropy', metrics = ['accuracy'])\n",
    "\n",
    "model51.fit(x_train, y_train, epochs=5, verbose=1, batch_size=20)\n",
    "\n",
    "score = model51.evaluate(x_test, y_test, verbose=0)\n",
    "print(\"Test loss:\", score[0])\n",
    "print(\"Test accuracy:\", score[1])"
   ]
  },
  {
   "cell_type": "markdown",
   "metadata": {},
   "source": [
    "### Relu-Soft-Relu / SGD"
   ]
  },
  {
   "cell_type": "code",
   "execution_count": 17,
   "metadata": {},
   "outputs": [
    {
     "name": "stdout",
     "output_type": "stream",
     "text": [
      "Epoch 1/5\n",
      "3000/3000 [==============================] - 21s 7ms/step - loss: 6.4597 - accuracy: 0.1873\n",
      "Epoch 2/5\n",
      "3000/3000 [==============================] - 22s 7ms/step - loss: 6.4740 - accuracy: 0.1324\n",
      "Epoch 3/5\n",
      "3000/3000 [==============================] - 26s 9ms/step - loss: 7.5152 - accuracy: 0.1092\n",
      "Epoch 4/5\n",
      "3000/3000 [==============================] - 20s 7ms/step - loss: 7.5149 - accuracy: 0.1124\n",
      "Epoch 5/5\n",
      "3000/3000 [==============================] - 20s 7ms/step - loss: 7.5149 - accuracy: 0.1124\n",
      "Test loss: 7.48796272277832\n",
      "Test accuracy: 0.11349999904632568\n"
     ]
    }
   ],
   "source": [
    "\n",
    "model6 = Sequential()\n",
    "model6.add(Dense(256, activation='linear'))\n",
    "model6.add(Dense(128, activation='relu'))\n",
    "model6.add(Dense(64, activation='softmax'))\n",
    "model6.add(Dense(10, activation='relu'))\n",
    "model6.compile(optimizer=keras.optimizers.SGD(lr=0.03), loss='categorical_crossentropy', metrics = ['accuracy'])\n",
    "\n",
    "model6.fit(x_train, y_train, epochs=5, verbose=1, batch_size=20)\n",
    "\n",
    "score = model6.evaluate(x_test, y_test, verbose=0)\n",
    "print(\"Test loss:\", score[0])\n",
    "print(\"Test accuracy:\", score[1])"
   ]
  },
  {
   "cell_type": "code",
   "execution_count": 18,
   "metadata": {},
   "outputs": [
    {
     "name": "stdout",
     "output_type": "stream",
     "text": [
      "Epoch 1/5\n",
      "3000/3000 [==============================] - 17s 6ms/step - loss: 0.2917 - accuracy: 0.9138\n",
      "Epoch 2/5\n",
      "3000/3000 [==============================] - 26s 9ms/step - loss: 0.1203 - accuracy: 0.9632\n",
      "Epoch 3/5\n",
      "3000/3000 [==============================] - 22s 7ms/step - loss: 0.0838 - accuracy: 0.9745\n",
      "Epoch 4/5\n",
      "3000/3000 [==============================] - 23s 8ms/step - loss: 0.0611 - accuracy: 0.9815\n",
      "Epoch 5/5\n",
      "3000/3000 [==============================] - 33s 11ms/step - loss: 0.0474 - accuracy: 0.9851\n",
      "Test loss: 0.07207922637462616\n",
      "Test accuracy: 0.9761000275611877\n"
     ]
    }
   ],
   "source": [
    "\n",
    "model61 = Sequential()\n",
    "model61.add(Dense(256, activation='relu'))\n",
    "model61.add(Dense(128, activation='linear'))\n",
    "model61.add(Dense(64, activation='relu'))\n",
    "model61.add(Dense(10, activation='softmax'))\n",
    "model61.compile(optimizer=keras.optimizers.SGD(lr=0.03), loss='categorical_crossentropy', metrics = ['accuracy'])\n",
    "\n",
    "model61.fit(x_train, y_train, epochs=5, verbose=1, batch_size=20)\n",
    "\n",
    "score = model61.evaluate(x_test, y_test, verbose=0)\n",
    "print(\"Test loss:\", score[0])\n",
    "print(\"Test accuracy:\", score[1])"
   ]
  },
  {
   "cell_type": "code",
   "execution_count": 19,
   "metadata": {},
   "outputs": [
    {
     "name": "stdout",
     "output_type": "stream",
     "text": [
      "Epoch 1/5\n",
      "3000/3000 [==============================] - 41s 14ms/step - loss: 0.3146 - accuracy: 0.9057\n",
      "Epoch 2/5\n",
      "3000/3000 [==============================] - 25s 8ms/step - loss: 0.1257 - accuracy: 0.9625\n",
      "Epoch 3/5\n",
      "3000/3000 [==============================] - 24s 8ms/step - loss: 0.0852 - accuracy: 0.9734\n",
      "Epoch 4/5\n",
      "3000/3000 [==============================] - 26s 9ms/step - loss: 0.0633 - accuracy: 0.9805\n",
      "Epoch 5/5\n",
      "3000/3000 [==============================] - 22s 7ms/step - loss: 0.0479 - accuracy: 0.9850\n",
      "Test loss: 0.07716747373342514\n",
      "Test accuracy: 0.9754999876022339\n"
     ]
    }
   ],
   "source": [
    "\n",
    "model62 = Sequential()\n",
    "model62.add(Dense(256, activation='relu'))\n",
    "model62.add(Dense(128, activation='relu'))\n",
    "model62.add(Dense(64, activation='relu'))\n",
    "model62.add(Dense(10, activation='softmax'))\n",
    "model62.compile(optimizer=keras.optimizers.SGD(lr=0.03), loss='categorical_crossentropy', metrics = ['accuracy'])\n",
    "\n",
    "model62.fit(x_train, y_train, epochs=5, verbose=1, batch_size=20)\n",
    "\n",
    "score = model62.evaluate(x_test, y_test, verbose=0)\n",
    "print(\"Test loss:\", score[0])\n",
    "print(\"Test accuracy:\", score[1])"
   ]
  },
  {
   "cell_type": "code",
   "execution_count": null,
   "metadata": {},
   "outputs": [],
   "source": []
  },
  {
   "cell_type": "code",
   "execution_count": null,
   "metadata": {},
   "outputs": [],
   "source": []
  },
  {
   "cell_type": "code",
   "execution_count": null,
   "metadata": {},
   "outputs": [],
   "source": []
  },
  {
   "cell_type": "code",
   "execution_count": null,
   "metadata": {},
   "outputs": [],
   "source": []
  }
 ],
 "metadata": {
  "kernelspec": {
   "display_name": "Python 3",
   "language": "python",
   "name": "python3"
  },
  "language_info": {
   "codemirror_mode": {
    "name": "ipython",
    "version": 3
   },
   "file_extension": ".py",
   "mimetype": "text/x-python",
   "name": "python",
   "nbconvert_exporter": "python",
   "pygments_lexer": "ipython3",
   "version": "3.7.6"
  },
  "toc": {
   "base_numbering": 1,
   "nav_menu": {},
   "number_sections": true,
   "sideBar": true,
   "skip_h1_title": false,
   "title_cell": "Table of Contents",
   "title_sidebar": "Contents",
   "toc_cell": false,
   "toc_position": {
    "height": "calc(100% - 180px)",
    "left": "10px",
    "top": "150px",
    "width": "384px"
   },
   "toc_section_display": true,
   "toc_window_display": true
  },
  "varInspector": {
   "cols": {
    "lenName": 16,
    "lenType": 16,
    "lenVar": 40
   },
   "kernels_config": {
    "python": {
     "delete_cmd_postfix": "",
     "delete_cmd_prefix": "del ",
     "library": "var_list.py",
     "varRefreshCmd": "print(var_dic_list())"
    },
    "r": {
     "delete_cmd_postfix": ") ",
     "delete_cmd_prefix": "rm(",
     "library": "var_list.r",
     "varRefreshCmd": "cat(var_dic_list()) "
    }
   },
   "types_to_exclude": [
    "module",
    "function",
    "builtin_function_or_method",
    "instance",
    "_Feature"
   ],
   "window_display": false
  }
 },
 "nbformat": 4,
 "nbformat_minor": 2
}
